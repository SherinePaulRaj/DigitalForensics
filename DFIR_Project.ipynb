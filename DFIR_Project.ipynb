{
  "nbformat": 4,
  "nbformat_minor": 0,
  "metadata": {
    "colab": {
      "provenance": []
    },
    "kernelspec": {
      "name": "python3",
      "display_name": "Python 3"
    },
    "language_info": {
      "name": "python"
    }
  },
  "cells": [
    {
      "cell_type": "markdown",
      "source": [
        "# Digital Forensics & Incidence Response - Final Project\n",
        "# Comprehensive Forensic Investigation\n",
        "\n",
        "# **Sherine Paul Raj**\n",
        "# UID: 119362921\n",
        "# Course: ENPM687 CY01\n",
        "\n",
        "# **I. Concise Overview of Information**\n",
        "\n",
        "This report outlines the findings derived from the analysis of an image of a hard drive linked to a malware writer associated with rebel activities, as provided by the Imperial Army. The investigative process initiated with the importation of disk image modules into the Autopsy platform, where an examination of directories and folders was conducted to identify malware and potentially suspicious messages.\n",
        "\n",
        "The scrutiny of data artifacts, particularly within the encryption-suspected folder under analysis, revealed a file reflecting the signature of the malware writer. This discovery led to the identification of a music folder located within the Documents and Settings directory.\n",
        "\n",
        "The mp3 file named \"not-the-droids-youre-looking-for\" was successfully extracted and mounted onto VeraCrypt, an encryption software requiring a password for access. Further investigation in the Recent Documents folder unveiled a path leading to the code folder and dist folder, revealing the presence of two files. Extracting and executing \"obiwan2.exe\" on Wireshark exposed an encrypted URL in base64 format, which, upon decoding, provided the password necessary for VeraCrypt.\n",
        "\n",
        "Subsequently, after entering the obtained password into VeraCrypt, access was granted to a folder containing the final-form malware. Execution of the final-form malware on Wireshark revealed two outgoing messages: \"We-will-defeat-Darth-Vader\" and \"We-have-the-blue-prints-to-the-Death-Star,\" indicating communication by the malware.\n",
        "\n",
        "\n",
        "# **II. Tools Employed in the Investigation**\n",
        "## a. Autopsy\n",
        "\n",
        "Autopsy is a pivotal tool developed as an open-source platform; it offers a comprehensive suite of tools designed to analyze digital media. Key aspects include Disk Image Analysis, File Analysis, Keywords and Artifact searches, Timeline analysis, Hash Analysis, and Integrated modules along with detailed reporting facilities.\n",
        "\n",
        "For this investigation, Autopsy was used to investigate the disk image file. Several intriguing artifacts were discovered on the device, including \"obiwan.exe,\" \"obiwan2.exe,\" email trails, web history, encryption software like VeraCrypt, and multimedia files which contained the encrypted file.\n",
        "\n",
        "\n",
        "## b. Wireshark\n",
        "\n",
        "Wireshark plays a crucial role in digital investigations, specifically in the domain of network analysis and packet sniffing. As an open-source network protocol analyzer, Wireshark offers a comprehensive platform for capturing and scrutinizing data as it traverses a network in real-time.\n",
        "\n",
        "During the investigation, Wireshark was employed to observe network traffic while executing the \"obiwan2.exe.\" The analysis revealed that it generated five distinct HTTP requests:\n",
        "- \"GET /this-is-not-even-my-final-form.\"\n",
        "- \"GET /All-your-base64-are-belong-to-us.\"\n",
        "- \"GET /cjJkMiBpcyB0aGUga2V5.\"\n",
        "- \"GET /help-me-obiwan-kenobi.\"\n",
        "- \"GET /youre-my-only-hope.\"\n",
        "\n",
        "Wireshark was also used to monitor the transmission from \"final-form.exe,\" uncovering the final transmitted messages.\n",
        "\n",
        "\n",
        "## c. VeraCrypt\n",
        "\n",
        "VeraCrypt is an open-source disk encryption tool utilized to safeguard and shield sensitive data stored on diverse media, such as hard drives, USB drives, and other removable storage devices. Its primary functions encompass Full Disk Encryption and the creation of Hidden Volumes.\n",
        "\n",
        "A noteworthy file identified as \"not-the-droid-you-are-looking-for.mp3\" was discovered during the investigation. This file was situated within an encrypted disk. Upon decryption using VeraCrypt, the disk revealed the presence of the final-form.exe malware.\n",
        "\n",
        "\n",
        "# **III. Evidence Analysis**\n",
        "\n",
        "### a. Summary of Evidence Found\n",
        "- While examining the data artifacts, it was discovered that there was an Encryption Suspected section. It contained an mp3 file along with other binary files.\n",
        "- The mp3 file was flagged by the tool, extracted for further investigation. As per the suspicion, the file did not play because it had been encrypted.\n",
        "- An Encryption Program was identified, which pointed to the VeraCrypt tool, used to encrypt files on a disk.\n",
        "- Recent Documents revealed a suspicious file path: “C:\\Documents and Settings\\Administrator\\My Documents\\code\\obiwan2.py”.\n",
        "\n",
        "### b. Analysis of Suspicious Files\n",
        "- Starting with the extraction of the \"obiwan.exe\" and \"obiwan2.exe\" files.\n",
        "- Executing the file opened a blank command prompt but did not do anything else.\n",
        "- Captured network traffic generated by the executable file using Wireshark. Interesting HTTP GET requests were found, including one encrypted in base64 format.\n",
        "- Decoded the base64 message to obtain the password: \"r2d2 is the key.\"\n",
        "- Used the password to decrypt the disk via VeraCrypt, uncovering the final-form malware.\n",
        "\n",
        "### c. Difficulties Encountered\n",
        "- Identifying the correct executable Obiwan file was challenging due to misleading shortcut (.lnk) files.\n",
        "- Determining the password required to decrypt the disk on VeraCrypt was initially difficult until packet captures revealed encrypted URLs that, when decoded, provided the necessary information.\n",
        "\n",
        "\n",
        "# **IV. Recommendations**\n",
        "\n",
        "Based on the findings in the report, the following measures are recommended to prevent future incidents:\n",
        "1. **Optimize Firewall Rules**: Enhance firewall rules to block unauthorized and repetitive requests originating from known malicious files.\n",
        "2. **Deploy Robust Incident Response and Endpoint Detection Systems**: Implement regular system scans to detect and eliminate potential malicious files. Immediate quarantine and deletion of any suspicious files are essential.\n",
        "3. **Restrict System Privileges to Administrators**: Limit the installation of programs and files to administrators only. This ensures that installation processes are controlled by users with a better understanding of system safety.\n",
        "4. **Ensure Regular System Updates**: Maintain the security integrity of the system by regularly updating the OS, browsers, and critical applications. Regular updates are essential to address vulnerabilities and maintain a robust defense.\n",
        "\n",
        "\n",
        "# **Conclusion**\n",
        "\n",
        "This forensic investigation successfully uncovered critical evidence linking the hard drive image to the suspected malware activities. By utilizing tools like Autopsy, Wireshark, and VeraCrypt, the investigation team was able to analyze, decrypt, and identify the nature of the malware, providing valuable insights and recommendations for future security measures.\n",
        "\n"
      ],
      "metadata": {
        "id": "wwm7D3RJaof-"
      }
    },
    {
      "cell_type": "markdown",
      "source": [],
      "metadata": {
        "id": "Wcp0czY2alg0"
      }
    }
  ]
}